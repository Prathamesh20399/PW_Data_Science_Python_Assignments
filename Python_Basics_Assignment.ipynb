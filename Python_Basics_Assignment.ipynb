{
 "cells": [
  {
   "cell_type": "raw",
   "id": "4a229350-fdc3-44a1-a7b9-36ae4b1f5d58",
   "metadata": {},
   "source": [
    "Q1. Explain the key features of Python that make it a popular choice for programming.\n",
    "\n",
    "Ans. Python's popularity as a programming language can be attributed to several key features:\n",
    "1. Readability and Simplicity:\n",
    "  •\tClear Syntax: Python's syntax is designed to be human-readable, often resembling plain English. This makes it easier to learn and write code.\n",
    "  •\tReduced Boilerplate Code: Python's concise syntax eliminates the need for many explicit declarations and terminators, leading to more concise and       readable code.\n",
    "\n",
    "2. Versatility and Wide Applications:\n",
    "  •\tGeneral-Purpose Language: Python can be used for a wide range of applications, including web development, data science, machine learning,               artificial intelligence, automation, and more.\n",
    "  •\tExtensive Libraries and Frameworks: Python boasts a vast ecosystem of libraries and frameworks that simplify complex tasks, such as NumPy, Pandas,      TensorFlow, Django, and Flask.\n",
    "\n",
    "3. Dynamic Typing: Python automatically infers data types at runtime, reducing the need for explicit type declarations.\n",
    "\n",
    "4. Cross-Platform Compatibility:\n",
    "  •\tPlatform Independence: Python code can run on various operating systems, including Windows, macOS, and Linux.\n",
    "\n",
    "5. Object-Oriented Programming (OOP) Support:\n",
    "  •\tOOP Paradigm: Python supports OOP principles like inheritance, encapsulation, and polymorphism, making it suitable for building complex and modular     applications.\n",
    "\n",
    "6. Functional Programming Support:\n",
    "  •\tFunctional Paradigm: Python also supports functional programming concepts like higher-order functions, lambda expressions, and map-reduce               operations.\n",
    "\n",
    "7. Standard Library:\n",
    "  •\tBuilt-in Functionality: Python's standard library offers a rich set of modules for various tasks, including file I/O, network programming, regular      expressions, and more.\n",
    "\n",
    "By combining these features, Python has become a powerful and versatile language, making it a popular choice for both beginners and experienced programmers.\n",
    "\n"
   ]
  },
  {
   "cell_type": "raw",
   "id": "1314bfcc-1a7d-43d6-9420-1b8c82b4f39c",
   "metadata": {},
   "source": [
    "Q2. Describe the role of predefined keywords in Python and provide examples of how they are used in a program\n",
    "Ans. In Python, there are around 35 predefined keywords. Predefined keywords are reserved words that have specific meanings and functions in the             language. These are essential for defining the structure and logic of your code. These keywords cannot be used as variable names, function/method       names, or other identifiers."
   ]
  },
  {
   "cell_type": "code",
   "execution_count": 20,
   "id": "49d33268-1124-4611-bf51-b68762970ef4",
   "metadata": {},
   "outputs": [
    {
     "name": "stdout",
     "output_type": "stream",
     "text": [
      "Hello world\n",
      "1\n",
      "3\n",
      "5\n"
     ]
    }
   ],
   "source": [
    "'''Here are some of the most commonly used keywords and their uses:'''\n",
    "\n",
    "# if, elif(else if), else: These are used in Conditional statements\n",
    "var1=True\n",
    "if(var1==True):  #Here we have again used a keyword 'True' this is a boolean datatype used for representing true condition\n",
    "    print(\"Hello world\")\n",
    "elif(var1==False):  #Here we have again used a keyword 'False' this is a boolean datatype used for representing false condition\n",
    "    print(\"Condition not true\")\n",
    "else:\n",
    "    print(\"Nothing specified\")\n",
    "\n",
    "\n",
    "for i in range (10):  #here we have used for, in and range keywords to run a loop in specified range\n",
    "    #  we also use while keyword for running a loop  \n",
    "    if(i%2==0):\n",
    "        pass    #pass keyword is used to do a null operation this wont skip the other operation in the iteration of the loop\n",
    "    elif(i%7==0):\n",
    "        break   #if the condition is \n",
    "    else:\n",
    "        print(i)\n",
    "        continue\n",
    "    \n",
    "\n",
    "#Also there a keywords as continue, break and pass\n"
   ]
  },
  {
   "cell_type": "raw",
   "id": "877f2267-c8e4-4a6e-99fe-c38ff3b5ea63",
   "metadata": {},
   "source": [
    "Q3. Compare and contrast mutable and immutable objects in Python with examples\n",
    "Ans. Mutable Objects: Mutability means the object/container can be changed after the creation of the object\n",
    "     Immutable Object: Immutability means that the object/container cannot be changed after the creation."
   ]
  },
  {
   "cell_type": "code",
   "execution_count": 3,
   "id": "a4666ecf-9ddc-436d-b6ef-8710e4fcd74e",
   "metadata": {},
   "outputs": [
    {
     "name": "stdout",
     "output_type": "stream",
     "text": [
      "Example for mutable object\n",
      "Original : Panvjv\n",
      "After Change : vnjsfo\n",
      "l\n"
     ]
    },
    {
     "ename": "TypeError",
     "evalue": "'str' object does not support item assignment",
     "output_type": "error",
     "traceback": [
      "\u001b[1;31m---------------------------------------------------------------------------\u001b[0m",
      "\u001b[1;31mTypeError\u001b[0m                                 Traceback (most recent call last)",
      "Cell \u001b[1;32mIn[3], line 13\u001b[0m\n\u001b[0;32m     10\u001b[0m var\u001b[38;5;241m=\u001b[39m\u001b[38;5;124m\"\u001b[39m\u001b[38;5;124mHello world\u001b[39m\u001b[38;5;124m\"\u001b[39m\n\u001b[0;32m     11\u001b[0m \u001b[38;5;28mprint\u001b[39m(var[\u001b[38;5;241m3\u001b[39m])\n\u001b[1;32m---> 13\u001b[0m \u001b[43mvar\u001b[49m\u001b[43m[\u001b[49m\u001b[38;5;241;43m3\u001b[39;49m\u001b[43m]\u001b[49m\u001b[38;5;241m=\u001b[39m\u001b[38;5;124m\"\u001b[39m\u001b[38;5;124mi\u001b[39m\u001b[38;5;124m\"\u001b[39m \u001b[38;5;66;03m#here we can't assign any new alphabet at desired position in a string object as string is an immutable object\u001b[39;00m\n",
      "\u001b[1;31mTypeError\u001b[0m: 'str' object does not support item assignment"
     ]
    }
   ],
   "source": [
    "#Here are some of the examples for mutable and immutable objects\n",
    "#Example of  mutable object\n",
    "list1=[1, 2, 3, \"Panvjv\", 1+3j]\n",
    "print(\"Example for mutable object\")\n",
    "print(\"Original :\",list1[3])\n",
    "list1[3]=\"vnjsfo\"\n",
    "print(\"After Change :\",list1[3])\n",
    "\n",
    "#Example of immutable Object\n",
    "var=\"Hello world\"\n",
    "print(var[3])\n",
    "\n",
    "var[3]=\"i\" #here we can't assign any new alphabet at desired position in a string object as string is an immutable object\n"
   ]
  },
  {
   "cell_type": "raw",
   "id": "59b0d51a-89f7-4dfb-999d-ecb1d918f64b",
   "metadata": {},
   "source": [
    "Q4. Discuss the different types of operators in Python and provide examples of how they are used"
   ]
  },
  {
   "cell_type": "code",
   "execution_count": 28,
   "id": "af020dd9-f2d8-4037-bdcc-787b5071a645",
   "metadata": {},
   "outputs": [
    {
     "name": "stdout",
     "output_type": "stream",
     "text": [
      "Arithmetic Operators: These are used in Mathematical operations like Additions, subtraction, division, etc\n",
      "Addition '+' : 5\n",
      "Subtraction '-' : 3\n",
      "Multiplication '*' : 6\n",
      "Division (decimal value) '/' : 3.5\n",
      "Division (floor value) '//' : 3\n",
      "Division (remainder) '%' : 1\n",
      " \n",
      "Comparison Operators: These operators are used in comparing values, these result in True or False as results\n",
      "Greater than '>'\n",
      "Greater than equal to '>=' \n",
      "Less than '<'\n",
      "Less than equal to '<='\n",
      "Equal to '=='\n",
      " \n",
      "Logical Operators: These are used to combine conditional statements and return a Boolean value\n",
      "When both the conditions are True with 'and' then the condition returned is True\n",
      "When one or both conditions are true with 'or' then the condition returned is true\n",
      "Anyone/both is true\n",
      "if the not operator is used then the condition returned is opposite of what is given with 'not'\n",
      " \n",
      "Assignment operators : These are used to assign a value to a variable after performing a mathematical operation\n",
      "1 1 2 2 3 6 4 24 5 120 6 720 7 5040 8 40320 9 362880 10 3628800  \n",
      " \n",
      "Membership Operators : These are used to check whether a value is found in a sequence\n",
      "True\n",
      "True\n",
      " \n",
      "Identity Operators : These are used to compare the objects, whether the objects are same or not\n",
      "False\n",
      "True\n"
     ]
    }
   ],
   "source": [
    "#Arithmetic Operators +, -, *, /, //, %\n",
    "print(\"Arithmetic Operators: These are used in Mathematical operations like Additions, subtraction, division, etc\")\n",
    "#Addition\n",
    "print(\"Addition '+' :\",2+3)\n",
    "\n",
    "#Subtraciton\n",
    "print(\"Subtraction '-' :\", 5-2)\n",
    "\n",
    "#Multiplication\n",
    "print(\"Multiplication '*' :\", 3*2)\n",
    "\n",
    "#division (results decimal value)\n",
    "print(\"Division (decimal value) '/' :\",7/2) \n",
    "\n",
    "#division (results floor value)\n",
    "print(\"Division (floor value) '//' :\",7//2) \n",
    "\n",
    "#division (results remainder)\n",
    "print(\"Division (remainder) '%' :\", 7%3)\n",
    "\n",
    "print(\" \")\n",
    "\n",
    "#Comparison Operators >, <, <=, >=, !=, ==\n",
    "print(\"Comparison Operators: These operators are used in comparing values, these result in True or False as results\")\n",
    "\n",
    "if(3>2):\n",
    "    print(\"Greater than '>'\")\n",
    "\n",
    "if(3>=2):\n",
    "    print(\"Greater than equal to '>=' \")\n",
    "\n",
    "if(4<5):\n",
    "    print(\"Less than '<'\")\n",
    "\n",
    "if(4<=5):\n",
    "    print(\"Less than equal to '<='\")\n",
    "\n",
    "if(5==5):\n",
    "    print(\"Equal to '=='\")\n",
    "\n",
    "print(\" \")\n",
    "\n",
    "#Logical Operators AND, OR, NOT\n",
    "print(\"Logical Operators: These are used to combine conditional statements and return a Boolean value\")\n",
    "\n",
    "if(True and True):\n",
    "    print(\"When both the conditions are True with 'and' then the condition returned is True\")\n",
    "\n",
    "if(True or True):\n",
    "    print(\"When one or both conditions are true with 'or' then the condition returned is true\")\n",
    "\n",
    "if(True or False):\n",
    "    print(\"Anyone/both is true\")\n",
    "\n",
    "if(not False):\n",
    "    print(\"if the not operator is used then the condition returned is opposite of what is given with 'not'\")\n",
    "\n",
    "print(\" \")\n",
    "#Assignment Operator  +=, -=, *=, /=\n",
    "print(\"Assignment operators : These are used to assign a value to a variable after performing a mathematical operation\")\n",
    "\n",
    "v=1\n",
    "for i in range(10):\n",
    "    i+=1   #here we are assigning a value to 'i' with adding 1 to it, similarly we can do all other mathematical operations is same wayand assign the value\n",
    "    #the above operation is similar to : i = i + 1\n",
    "    print(i, end=\" \")\n",
    "    v*=i    # this is also similar to : v = v * i\n",
    "    print(v, end=\" \")\n",
    "\n",
    "print(\" \")\n",
    "#Membership operators\n",
    "print(\" \")\n",
    "print(\"Membership Operators : These are used to check whether a value is found in a sequence\")\n",
    "list1=[1, 2, 3, \"Panvjv\", 1+3j]\n",
    "print(1 in list1)   #we use 'in' keyword to check whether the given value is available in the list, it will return a boolenan value\n",
    "print(4 not in list1)    #we use ' not in' keywords to check whether the given value is not available in the list\n",
    "\n",
    "print(\" \")\n",
    "\n",
    "#Identity Operators\n",
    "print(\"Identity Operators : These are used to compare the objects, whether the objects are same or not\")\n",
    "a = \"Prathamesh\"\n",
    "b = \"Hrishikesh\"\n",
    "c = \"Prathamesh\"\n",
    "print(a is b)  #here we use is keyword to check whether variable a is same as b, this will return a boolean value\n",
    "print(a is c)"
   ]
  },
  {
   "cell_type": "raw",
   "id": "9cc85054-f374-4751-9130-8d0f0466179b",
   "metadata": {},
   "source": [
    "Q5. Explain the concept of type casting in Python with examples\n",
    "Ans. Type casting, also known as type conversion, is the process of converting one data type to another. There are two types of type casting:\n",
    "1. Implicit Type Casting \n",
    "2. Explicit Type Casting\n",
    "\n",
    "1.] Implicit Type Casting : Python automatically converts one data type to another when it's necessary to perform an operation.\n",
    "2.] Explicit Type Casting : IN this type we have to manually convert one data type to another using built-in functions like int(), float(), and str()."
   ]
  },
  {
   "cell_type": "code",
   "execution_count": 30,
   "id": "d08270e9-71dc-4158-b58d-410bb3e10e73",
   "metadata": {},
   "outputs": [
    {
     "name": "stdout",
     "output_type": "stream",
     "text": [
      "25.0\n",
      "15\n"
     ]
    }
   ],
   "source": [
    "#IMplicit Type Casting\n",
    "x = 10  # integer\n",
    "y = 2.5  # float\n",
    "\n",
    "result = x * y  # Python automatically converts 'x' to a float\n",
    "print(result) \n",
    "\n",
    "#Explicit Type Casting\n",
    "x = \"10\"  # String\n",
    "y = int(x)  # Convert 'x' to an integer\n",
    "print(y + 5)"
   ]
  },
  {
   "cell_type": "raw",
   "id": "f66a3779-6014-45b1-9590-c8d68ac4401e",
   "metadata": {},
   "source": [
    "Q6. How do conditional statements work in Python? Illustrate with example\n",
    "Ans. Conditional statements in Python allow you to execute specific code blocks based on certain conditions. The conditional statements are if, elif, and else.\n",
    "\n",
    "When we have mulitple conditions to check we first use 'if' condition and then use 'elif' (else-if) and at the last we use 'else' when none of the conditions are true.\n",
    "Each of the if-conditions will check for the given condition, whether it is true or False if true then the code inside that block will get executed otherwise it will check the next for conditions."
   ]
  },
  {
   "cell_type": "code",
   "execution_count": 31,
   "id": "2ee95277-2ad4-4561-b65e-050b0eace1bb",
   "metadata": {},
   "outputs": [
    {
     "name": "stdout",
     "output_type": "stream",
     "text": [
      "Hello world\n",
      "Number is divisible by 6\n"
     ]
    }
   ],
   "source": [
    "#Example\n",
    "var1=True\n",
    "if(var1==True):  \n",
    "    print(\"Hello world\")\n",
    "elif(var1==False):  \n",
    "    print(\"Condition not true\")\n",
    "else:\n",
    "    print(\"Nothing specified\")\n",
    "\n",
    "\n",
    "#Example for Nested if-else statements\n",
    "var = 30\n",
    "if(var%2==0):\n",
    "    if(var%3==0):\n",
    "        print(\"Number is divisible by 6\")\n",
    "    elif(var%5==0):\n",
    "        print(\"Number is divisible by 10\")\n",
    "elif(var%7==0):\n",
    "    print(\"Number divisible by 7\")"
   ]
  },
  {
   "cell_type": "raw",
   "id": "20c094bb-d8f0-45d8-aaae-25ed00848d25",
   "metadata": {},
   "source": [
    "Q7. Describe the different types of loops in Python and their use cases with examples\n",
    "Ans. Python offers two primary types of loops: 'for' and 'while'. These loops allow you to execute a block of code repeatedly, either a fixed number of times or until a certain condition is met.\n",
    "\n",
    "For Loop: we use for loop when you know the exact number of iterations or want to iterate over a specific sequence like list, set tuple.\n",
    "While Loop: we use while loop when you don't know the exact number of iterations in advance and want to repeat the code-block until a certain condition is met."
   ]
  },
  {
   "cell_type": "code",
   "execution_count": 3,
   "id": "83396876-d94c-472c-a17c-3794f5232d5e",
   "metadata": {},
   "outputs": [
    {
     "name": "stdout",
     "output_type": "stream",
     "text": [
      "For Loop\n",
      "0 1 4 9 16 25 36 49 64 81  \n",
      "nested for loop\n",
      "1 1 3 1 4 7 1 5 9 13  \n",
      "While Loop\n",
      "0 2 6 12 20 30 42 56 72 90 "
     ]
    }
   ],
   "source": [
    "#for Loop Example\n",
    "print(\"For Loop\")\n",
    "for i in range(10):\n",
    "    print(i*i, end=\" \")\n",
    "print(\" \")\n",
    "\n",
    "print(\"nested for loop\")\n",
    "#nested for loop\n",
    "for j in range(5):\n",
    "    for num in range(j):\n",
    "        print(j*num+1, end=\" \")\n",
    "\n",
    "print(\" \")\n",
    "print(\"While Loop\")\n",
    "num1=0\n",
    "while(num1<10):\n",
    "    print(num1*num1+num1, end=\" \")\n",
    "    num1+=1"
   ]
  },
  {
   "cell_type": "code",
   "execution_count": null,
   "id": "1fc7f801-5ba0-4e9e-8181-8781355ca712",
   "metadata": {},
   "outputs": [],
   "source": []
  }
 ],
 "metadata": {
  "kernelspec": {
   "display_name": "Python 3 (ipykernel)",
   "language": "python",
   "name": "python3"
  },
  "language_info": {
   "codemirror_mode": {
    "name": "ipython",
    "version": 3
   },
   "file_extension": ".py",
   "mimetype": "text/x-python",
   "name": "python",
   "nbconvert_exporter": "python",
   "pygments_lexer": "ipython3",
   "version": "3.10.2"
  }
 },
 "nbformat": 4,
 "nbformat_minor": 5
}
