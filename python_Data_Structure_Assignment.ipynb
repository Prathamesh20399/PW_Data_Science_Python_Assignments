{
 "cells": [
  {
   "cell_type": "code",
   "execution_count": 17,
   "id": "14338035-bdea-494b-a66b-d59079a245be",
   "metadata": {},
   "outputs": [
    {
     "name": "stdout",
     "output_type": "stream",
     "text": [
      "Example 1.]\n",
      "For extracting \"World\" we use sample_string1[6:11] = World\n",
      "We can also reverse a string using slicing by sample_string1[::-1] = !dlroW olleH\n",
      "We can also extract character from a string that are at even indexes ny sample_string1[::2] = HloWrd \n",
      "We can also extract characters of a string that are at odd indexes by sample_string1[1::2] = el ol!\n",
      "We can also extract characters using negative indexing by sample_string1[:-1] = Hello World\n"
     ]
    }
   ],
   "source": [
    "'''Q.1] Discuss string slicing and provide examples.\n",
    "Ans. String slicing is a technique to extract specified portion of a string. It is achieved by specifying the range of indices within the string.'''\n",
    "\n",
    "\n",
    "print(\"Example 1.]\")\n",
    "sample_string1 = \"Hello World!\"\n",
    "print(\"For extracting \\\"World\\\" we use sample_string1[6:11] =\",sample_string1[6:11])\n",
    "print(\"We can also reverse a string using slicing by sample_string1[::-1] =\",sample_string1[::-1])\n",
    "print(\"We can also extract character from a string that are at even indexes ny sample_string1[::2] =\",sample_string1[::2],\"\\nWe can also extract characters of a string that are at odd indexes by sample_string1[1::2] =\",sample_string1[1::2])\n",
    "print(\"We can also extract characters using negative indexing by sample_string1[:-1] =\",sample_string1[:-1])"
   ]
  },
  {
   "cell_type": "code",
   "execution_count": 18,
   "id": "45c879e8-1d62-4deb-826c-870412aba8da",
   "metadata": {},
   "outputs": [
    {
     "data": {
      "text/plain": [
       "\"Q.2] Explain the key features of lists in Python\\nAns. Lists in python are ordered collection of items enclosed in square-brackets '[]'. Some of the key features of list in python are as below:\\n1. Items in the lists are in ordered form, hence we can extract/retreive items from a list easily using index in string. List uses 0 based indexing.\\n2. List is mutable object. This makes it easy for us to manipulate/change data in a list.\\n3. List can store heterogenous types(datatypes) of items.\\n4. List is dynamically sized, hence we can add any number of items without worrying about the size of the list.\\n5. Similar to String, we can do slicing in list also\""
      ]
     },
     "execution_count": 18,
     "metadata": {},
     "output_type": "execute_result"
    }
   ],
   "source": [
    "'''Q.2] Explain the key features of lists in Python\n",
    "Ans. Lists in python are ordered collection of items enclosed in square-brackets '[]'. Some of the key features of list in python are as below:\n",
    "1. Items in the lists are in ordered form, hence we can extract/retreive items from a list easily using index in string. List uses 0 based indexing.\n",
    "2. List is mutable object. This makes it easy for us to manipulate/change data in a list.\n",
    "3. List can store heterogenous types(datatypes) of items.\n",
    "4. List is dynamically sized, hence we can add any number of items without worrying about the size of the list.\n",
    "5. Similar to String, we can do slicing in list also'''"
   ]
  },
  {
   "cell_type": "code",
   "execution_count": 19,
   "id": "8e43f49a-6f69-47c3-b662-d3adc5d36327",
   "metadata": {},
   "outputs": [
    {
     "name": "stdout",
     "output_type": "stream",
     "text": [
      "Accessing Elements :\n",
      "For Accessing elements in a list in python we can use the index of the item that we want to access.\n",
      "For Example : If we want to access first element then we can get that by : sample_list[0] = 9\n",
      "We can also use negative indexing for accessing the elements by : sample_list[-3] = True\n",
      " \n",
      "Modifying Elements :\n",
      "List before modifying : [9, 'vnkdjn', 85, True, (5+6j), [1, 2, 'nvjdfn']]\n",
      "For modifying any element in a list in python we access the element and assign it a new value as shown below.\n",
      "sample_list[3]=\"ncjdsnv\"\n",
      "List after modifying : [9, 'vnkdjn', 85, 'ncjdsnv', (5+6j), [1, 2, 'nvjdfn']]\n",
      " \n",
      "Deleting Elements :\n",
      "For deleting element from a list in python we can either use 'del' keyword or use remove() or pop() function\n",
      "List before deleting last element : [9, 'vnkdjn', 85, 'ncjdsnv', (5+6j), [1, 2, 'nvjdfn']]\n",
      "List after deleting last element : [9, 'vnkdjn', 85, 'ncjdsnv', (5+6j)]\n",
      "List after deleting specified/desired element : [9, 'vnkdjn', 'ncjdsnv', (5+6j)]\n",
      "List after deleting using 'del' keyword with index specified : [9, 'vnkdjn', (5+6j)]\n"
     ]
    }
   ],
   "source": [
    "'''Q.3] Describe how to access, modify, and delete elements in a list with examples.'''\n",
    "sample_list=[9, \"vnkdjn\", 85, True, 5+6j, [1, 2, \"nvjdfn\"]]\n",
    "\n",
    "print(\"Accessing Elements :\")\n",
    "print(\"For Accessing elements in a list in python we can use the index of the item that we want to access.\\nFor Example : If we want to access first element then we can get that by : sample_list[0] =\",sample_list[0])\n",
    "print(\"We can also use negative indexing for accessing the elements by : sample_list[-3] =\",sample_list[-3])\n",
    "\n",
    "print(\" \")\n",
    "print(\"Modifying Elements :\")\n",
    "print(\"List before modifying :\",sample_list)\n",
    "print(\"For modifying any element in a list in python we access the element and assign it a new value as shown below.\\nsample_list[3]=\\\"ncjdsnv\\\"\")\n",
    "sample_list[3]=\"ncjdsnv\"\n",
    "print(\"List after modifying :\",sample_list)\n",
    "\n",
    "print(\" \")\n",
    "print(\"Deleting Elements :\")\n",
    "print(\"For deleting element from a list in python we can either use 'del' keyword or use remove() or pop() function\")\n",
    "print(\"List before deleting last element :\",sample_list)\n",
    "sample_list.pop() #this will delete the last element from the list, this will return the elementthat is removed\n",
    "print(\"List after deleting last element :\",sample_list)\n",
    "sample_list.remove(85)  #this will delete the specified element\n",
    "print(\"List after deleting specified/desired element :\",sample_list)\n",
    "del sample_list[2]\n",
    "print(\"List after deleting using 'del' keyword with index specified :\",sample_list)"
   ]
  },
  {
   "cell_type": "code",
   "execution_count": 20,
   "id": "3dbfa63e-1bf2-483d-9cb6-587973b7d9cd",
   "metadata": {},
   "outputs": [
    {
     "data": {
      "text/plain": [
       "\"Q.4] Compare and contrast tuples and lists with examples\\nAns. List :\\n  1. Lists are ordered sequence of items.\\n  2. List is mutable, hence we can modify/change items stored in a list, as and when we want.\\n  3. List is defined by square-brackets.\\n  4. Size of list can increase after the list's creation.\\n\\n     Tuple :\\n  1. Tuples are also similar to lists.\\n  2. Unlike lists tuples are immutable, hence we cannot modify tuple once it is created.\\n  3. Tuple is defined by parentheses '()'\\n  4. Size of tuple cannot increase after the tuple's creation.\""
      ]
     },
     "execution_count": 20,
     "metadata": {},
     "output_type": "execute_result"
    }
   ],
   "source": [
    "'''Q.4] Compare and contrast tuples and lists with examples\n",
    "Ans. List :\n",
    "  1. Lists are ordered sequence of items.\n",
    "  2. List is mutable, hence we can modify/change items stored in a list, as and when we want.\n",
    "  3. List is defined by square-brackets.\n",
    "  4. Size of list can increase after the list's creation.\n",
    "\n",
    "     Tuple :\n",
    "  1. Tuples are also similar to lists.\n",
    "  2. Unlike lists tuples are immutable, hence we cannot modify tuple once it is created.\n",
    "  3. Tuple is defined by parentheses '()'\n",
    "  4. Size of tuple cannot increase after the tuple's creation.'''"
   ]
  },
  {
   "cell_type": "code",
   "execution_count": 24,
   "id": "aac07c64-b4f3-4116-9692-4f3c554a16a3",
   "metadata": {},
   "outputs": [
    {
     "name": "stdout",
     "output_type": "stream",
     "text": [
      "For adding element to a set we can use add() function \n",
      "Set after adding element : {100, 'vskjb', 54, 23, 'anfkd', 43}\n",
      "We can also create a dictionary uisng zip() function as below\n",
      "{100: 67, 'vskjb': 'ewufwgrr', 54: 'sdvbsb', 23: 'nvdsjnv', 'anfkd': 'svnsjvb'}\n",
      "We can also add two sets to create a set with combined data\n",
      "New set with combined data {67, 100, 'anfkd', 'sdvbsb', 43, 'ewufwgrr', 'vskjb', 54, 23, 'nvdsjnv', 'svnsjvb'}\n",
      " \n",
      "For removing any element from a set in python we use remove() function\n",
      "Check if set contains the specified element : False\n",
      "Set after removing specified element : {67, 'anfkd', 'sdvbsb', 43, 'ewufwgrr', 'vskjb', 54, 23, 'nvdsjnv', 'svnsjvb'}\n"
     ]
    }
   ],
   "source": [
    "'''Q.5]  Describe the key features of sets and provide examples of their use.\n",
    "Ans.  Sets in Python are unordered collections of unique elements. They are defined using curly braces {}.\n",
    "\n",
    "Key Features:\n",
    "\n",
    "1. Unordered: Elements in a set do not have a specific order.\n",
    "2. Unique: Each element in a set must be unique.\n",
    "3. Mutable: Elements can be added or removed after the set is created.\n",
    "4. No Indexing: Sets do not support indexing.'''\n",
    "\n",
    "sample_set1 = {23, 43, 54, \"vskjb\", 100}\n",
    "print(\"For adding element to a set we can use add() function \")\n",
    "sample_set1.add(\"anfkd\")\n",
    "print(\"Set after adding element :\",sample_set1)\n",
    "sample_set2={\"nvdsjnv\", \"svnsjvb\", \"ewufwgrr\", 67, \"sdvbsb\"}\n",
    "print(\"We can also create a dictionary uisng zip() function as below\")\n",
    "sample_dict = dict(zip(sample_set1, sample_set2))\n",
    "print(sample_dict)\n",
    "print(\"\n",
    "print(\"We can also add two sets to create a set with combined data\")\n",
    "sample_set3 = sample_set1.union(sample_set2)\n",
    "print(\"New set with combined data\", sample_set3)\n",
    "print(\" \")\n",
    "print(\"For removing any element from a set in python we use remove() function\")\n",
    "sample_set3.remove(100)\n",
    "print(\"Check if set contains the specified element :\", 100 in sample_set3)\n",
    "print(\"Set after removing specified element :\",sample_set3)"
   ]
  },
  {
   "cell_type": "code",
   "execution_count": 25,
   "id": "e1afa6d1-77d9-435d-be29-ca8564230bd6",
   "metadata": {},
   "outputs": [
    {
     "data": {
      "text/plain": [
       "'Q.6] Discuss the use cases of tuples and sets in Python programming\\nAns. Tuples\\n\\n Representing immutable data:\\n  - Configuration settings\\n  - Date and time information\\n  - Geographical coordinates\\n\\n Returning multiple values from a function:\\n  - A function can return multiple values as a tuple.\\n\\n As keys in dictionaries:\\n  - Tuples can be used as dictionary keys, while lists cannot.\\n\\n Sets\\n\\n Removing duplicates from a list:\\n  - Converting a list to a set eliminates duplicates.\\n\\n Membership testing:\\n  - Quickly check if an element is present in a set.\\n\\n Set operations:\\n  - Performing operations like union, intersection, difference, and symmetric difference on sets.\\n\\n Eliminating duplicate characters in a string:\\n  - Converting a string to a set and then back to a string.\\n'"
      ]
     },
     "execution_count": 25,
     "metadata": {},
     "output_type": "execute_result"
    }
   ],
   "source": [
    "'''Q.6] Discuss the use cases of tuples and sets in Python programming\n",
    "Ans. Tuples:\n",
    " Representing immutable data:\n",
    "  - Configuration settings\n",
    "  - Date and time information\n",
    "  - Geographical coordinates\n",
    "\n",
    " Returning multiple values from a function:\n",
    "  - A function can return multiple values as a tuple.\n",
    "\n",
    " As keys in dictionaries:\n",
    "  - Tuples can be used as dictionary keys, while lists cannot.\n",
    "\n",
    " Sets:\n",
    " Removing duplicates from a list:\n",
    "  - Converting a list to a set eliminates duplicates.\n",
    "\n",
    " Membership testing:\n",
    "  - Quickly check if an element is present in a set.\n",
    "\n",
    " Set operations:\n",
    "  - Performing operations like union, intersection, difference, and symmetric difference on sets.\n",
    "\n",
    " Eliminating duplicate characters in a string:\n",
    "  - Converting a string to a set and then back to a string.\n",
    "'''"
   ]
  },
  {
   "cell_type": "code",
   "execution_count": 44,
   "id": "cf0e6c12-0143-4af6-a6c4-4093e931b037",
   "metadata": {},
   "outputs": [
    {
     "name": "stdout",
     "output_type": "stream",
     "text": [
      "For adding element to a dictionary we can use the syntax as : dictname['key_to_be_added']=\"value\"\n",
      "For Example :\n",
      "Dictionary after adding new key-value pair : {'Name': 'Prathamesh', 'Age': 25, 'City': 'Dhule'}\n",
      " \n",
      "For modifying items in a dictionary we use the same syntax as used for adding the value, because dictionary does not allow duplicate \n",
      "keys with values, if duplicate keys with values are given,\n",
      "it just updates the existing key in dictinoary \n",
      "with updated value\n",
      "Dictionary after updating key 'Name' pair : {'Name': 'Pratik', 'Age': 25, 'City': 'Dhule'}\n",
      " \n",
      "For deleting a key-value pair in a dictionary we can use 'del' keyword or we can use 'pop()' function in python\n",
      "Dictionary after deleting key 'Age' using 'del' keyword : {'Name': 'Pratik', 'City': 'Dhule'}\n",
      "Dictionary after deleting key 'Age' using 'pop()' function : {'Name': 'Pratik'}\n"
     ]
    }
   ],
   "source": [
    "'''Q.7] Describe how to add, modify, and delete items in a dictionary with examples\n",
    "Ans. '''\n",
    "print(\"For adding element to a dictionary we can use the syntax as : dictname['key_to_be_added']=\\\"value\\\"\")\n",
    "print(\"For Example :\")\n",
    "sample_dict1={'Name':\"Prathamesh\", 'Age':25}\n",
    "#for adding we use the above given syntax as per our code\n",
    "sample_dict1['City']=\"Dhule\"\n",
    "print(\"Dictionary after adding new key-value pair :\",sample_dict1)\n",
    "print(\" \")\n",
    "print(\"For modifying items in a dictionary we use the same syntax as used for adding the value, because dictionary does not allow duplicate \\nkeys with values, if duplicate keys with values are given,\\nit just updates the existing key in dictinoary \\nwith updated value\")\n",
    "#for modifying item in dictionary \n",
    "sample_dict1['Name']=\"Pratik\"\n",
    "print(\"Dictionary after updating key 'Name' pair :\",sample_dict1)\n",
    "print(\" \")\n",
    "print(\"For deleting a key-value pair in a dictionary we can use 'del' keyword or we can use 'pop()' function in python\")\n",
    "del sample_dict1['Age']\n",
    "print(\"Dictionary after deleting key 'Age' using 'del' keyword :\",sample_dict1)\n",
    "sample_dict1.pop('City')\n",
    "print(\"Dictionary after deleting key 'Age' using 'pop()' function :\",sample_dict1)"
   ]
  },
  {
   "cell_type": "code",
   "execution_count": 49,
   "id": "8b7049dd-eb17-4507-86fe-3347bddb3257",
   "metadata": {},
   "outputs": [
    {
     "name": "stdout",
     "output_type": "stream",
     "text": [
      "Examples of Immutable Data Types Suitable for Dictionary Keys:\n",
      "Strings:\n",
      "Dictionary with Strings as keys : {'apple': 2, 'banana': 3}\n",
      "Integers:\n",
      "Dictionary with Integers as keys : {1: 'one', 2: 'two', 3: 'three'}\n",
      "Tuples:\n",
      "Dictionary with Tuples as keys : {(1, 2): 'value1', (3, 4): 'value2'}\n"
     ]
    },
    {
     "data": {
      "text/plain": [
       "\" Why Lists and Sets Can't Be Dictionary Keys:\\n\\nLists and sets are mutable. This means their contents can change over time, which would invalidate the hash value associated with them as a dictionary key.\\nIf a key's hash value changes, the dictionary would no longer be able to locate the corresponding value efficiently.\\nBy understanding the importance of immutable keys, you can effectively use dictionaries in your Python programs, ensuring their reliability and performance. \""
      ]
     },
     "execution_count": 49,
     "metadata": {},
     "output_type": "execute_result"
    }
   ],
   "source": [
    "'''Q.8] Discuss the importance of dictionary keys being immutable and provide examples\n",
    "Ans. Dictionary keys must be immutable to ensure the integrity and efficiency of the dictionary's internal structure.\n",
    "\n",
    "Here's a breakdown of why:\n",
    "\n",
    "# Hashing:\n",
    "\n",
    "- Dictionaries use a hashing algorithm to store and retrieve values efficiently.\n",
    "- The hash value of a key is calculated based on its value.\n",
    "- If keys were mutable, their values could change, leading to changes in their hash values.\n",
    "- This would disrupt the dictionary's internal organization and make it difficult to find the correct value associated with a key.\n",
    "\n",
    "#Consistency and Predictability:\n",
    "\n",
    "- Immutable keys ensure that the dictionary remains consistent and predictable.\n",
    "- If keys were mutable, modifying a key could inadvertently change the mapping of values, leading to unexpected behavior. '''\n",
    "print(\"Examples of Immutable Data Types Suitable for Dictionary Keys:\")\n",
    "print(\"Strings:\")\n",
    "my_dict = {'apple': 2, 'banana': 3}\n",
    "print(\"Dictionary with Strings as keys :\",my_dict)\n",
    "print(\"Integers:\")\n",
    "my_dict = {1: 'one', 2: 'two', 3: 'three'}\n",
    "print(\"Dictionary with Integers as keys :\",my_dict)\n",
    "print(\"Tuples:\")\n",
    "my_dict = {(1, 2): 'value1', (3, 4): 'value2'}\n",
    "print(\"Dictionary with Tuples as keys :\",my_dict)\n",
    "''' Why Lists and Sets Can't Be Dictionary Keys:\n",
    "\n",
    "Lists and sets are mutable. This means their contents can change over time, which would invalidate the hash value associated with them as a dictionary key.\n",
    "If a key's hash value changes, the dictionary would no longer be able to locate the corresponding value efficiently.\n",
    "By understanding the importance of immutable keys, you can effectively use dictionaries in your Python programs, ensuring their reliability and performance. '''"
   ]
  },
  {
   "cell_type": "code",
   "execution_count": null,
   "id": "3f49b745-6bb5-41bb-b8e5-80195527e966",
   "metadata": {},
   "outputs": [],
   "source": []
  }
 ],
 "metadata": {
  "kernelspec": {
   "display_name": "Python 3 (ipykernel)",
   "language": "python",
   "name": "python3"
  },
  "language_info": {
   "codemirror_mode": {
    "name": "ipython",
    "version": 3
   },
   "file_extension": ".py",
   "mimetype": "text/x-python",
   "name": "python",
   "nbconvert_exporter": "python",
   "pygments_lexer": "ipython3",
   "version": "3.10.2"
  }
 },
 "nbformat": 4,
 "nbformat_minor": 5
}
