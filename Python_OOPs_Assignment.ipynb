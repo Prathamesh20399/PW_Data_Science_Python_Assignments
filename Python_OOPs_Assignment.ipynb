{
 "cells": [
  {
   "cell_type": "code",
   "execution_count": 1,
   "id": "3a29ab02-3b82-451d-a21d-c016bb485de5",
   "metadata": {},
   "outputs": [
    {
     "data": {
      "text/plain": [
       "'Q.1] What are the five key concepts of Object-Oriented Programming (OOP)?\\nAns. The five key concepts of Object-Oriented Programming (OOP) in Python are:\\n\\n# Class:\\n  A blueprint for creating objects. It defines the attributes (data) and methods (functions) that objects of that class will have. \\xa0 \\n\\n# Object:\\n  An instance of a class. It represents a real-world entity with specific attributes and behaviors.\\n\\n# Inheritance:\\n  The ability of one class to inherit attributes and methods from another class. This promotes code reusability and creates hierarchical relationships between classes.\\n\\n# Polymorphism:\\n  The ability of objects of different classes to be treated as if they were objects of a common superclass. This allows for flexible and extensible code.\\n\\n# Encapsulation:\\n  The bundling of data (attributes) and methods (functions) that operate on that data within a single unit (class). This helps in protecting the internal state of an object and controlling access to it.\\n\\nThese concepts work together to create modular, reusable, and maintainable code in Python. By understanding and applying these principles, you can design efficient and effective object-oriented applications.'"
      ]
     },
     "execution_count": 1,
     "metadata": {},
     "output_type": "execute_result"
    }
   ],
   "source": [
    "'''Q.1] What are the five key concepts of Object-Oriented Programming (OOP)?\n",
    "Ans. The five key concepts of Object-Oriented Programming (OOP) in Python are:\n",
    "\n",
    "# Class:\n",
    "  A blueprint for creating objects. It defines the attributes (data) and methods (functions) that objects of that class will have.   \n",
    "\n",
    "# Object:\n",
    "  An instance of a class. It represents a real-world entity with specific attributes and behaviors.\n",
    "\n",
    "# Inheritance:\n",
    "  The ability of one class to inherit attributes and methods from another class. This promotes code reusability and creates hierarchical relationships between classes.\n",
    "\n",
    "# Polymorphism:\n",
    "  The ability of objects of different classes to be treated as if they were objects of a common superclass. This allows for flexible and extensible code.\n",
    "\n",
    "# Encapsulation:\n",
    "  The bundling of data (attributes) and methods (functions) that operate on that data within a single unit (class). This helps in protecting the internal state of an object and controlling access to it.\n",
    "\n",
    "These concepts work together to create modular, reusable, and maintainable code in Python. By understanding and applying these principles, you can design efficient and effective object-oriented applications.'''"
   ]
  },
  {
   "cell_type": "code",
   "execution_count": 3,
   "id": "7cb834f3-247a-48ef-a916-417415e9d6d2",
   "metadata": {},
   "outputs": [
    {
     "name": "stdout",
     "output_type": "stream",
     "text": [
      "Make :  Rolls-Royce \n",
      "Model : Phantom \n",
      "Year : 2015\n"
     ]
    }
   ],
   "source": [
    "'''Q.2] Write a Python class for a `Car` with attributes for `make`, `model`, and `year`. Include a method to display\n",
    "the car's information.'''\n",
    "class Car:\n",
    "    def __init__(self, make, model, year):\n",
    "        self.make = make\n",
    "        self.model = model\n",
    "        self.year = year\n",
    "\n",
    "    def display_details(self):\n",
    "        print(\"Make : \",self.make,\"\\nModel :\",self.model,\"\\nYear :\",self.year)\n",
    "\n",
    "car1 = Car(\"Rolls-Royce\", \"Phantom\", 2015)\n",
    "car1.display_details()"
   ]
  },
  {
   "cell_type": "code",
   "execution_count": 13,
   "id": "81988968-c397-4484-b4b8-45ac4d0c46ef",
   "metadata": {},
   "outputs": [
    {
     "name": "stdout",
     "output_type": "stream",
     "text": [
      "Hello, my name is Prathamesh and I am 25 years old.\n",
      "Hello my name is Patrick I am 19 years old\n"
     ]
    }
   ],
   "source": [
    "'''Q.3] Explain the difference between instance methods and class methods. Provide an example of each.\n",
    "Ans. In Python, instance methods and class methods are two types of methods defined within a class, but they differ in their purpose and how they are called.\n",
    "\n",
    "# Instance Methods:\n",
    "\n",
    "  Purpose: Operate on the specific instance of a class.\n",
    "  First Parameter: self, which refers to the instance itself.\n",
    "  Access: Can access both instance and class attributes.\n",
    "  Invocation: Called on an object instance.'''\n",
    "\n",
    "class Person1:\n",
    "    def __init__(self, name, age):\n",
    "        self.name = name\n",
    "        self.age = age\n",
    "\n",
    "    def greet(self):\n",
    "        print(f\"Hello, my name is {self.name} and I am {self.age} years old.\")\n",
    "\n",
    "person = Person1(\"Prathamesh\", 25)\n",
    "person.greet()\n",
    "#Here, greet() is an instance method. It can access and modify the name and age attributes of the specific Person object it's called on.\n",
    "\n",
    "'''Class Methods:\n",
    "\n",
    "  Purpose: Operate on the class itself, rather than on specific instances.\n",
    "  First Parameter: cls, which refers to the class itself.\n",
    "  Access: Can only access class-level attributes and methods.\n",
    "  Invocation: Called on the class directly, not on an instance.'''\n",
    "\n",
    "class Person:\n",
    "\n",
    "    def __init__(self, name, age):\n",
    "        self.name = name\n",
    "        self.age = age\n",
    "        \n",
    "    @classmethod\n",
    "    def from_birth_year(cls, name, age):\n",
    "        return cls(name, int(age))\n",
    "\n",
    "man = Person.from_birth_year(\"Patrick\", 19)\n",
    "print(\"Hello my name is\",man.name, \"I am\",man.age,\"years old\")\n",
    "#Here, from_birth_year is a class method. It can be used to create a Person object directly from a birth year, without needing to create an instance first."
   ]
  },
  {
   "cell_type": "code",
   "execution_count": 3,
   "id": "85f7f926-56ae-4aa4-9188-c621111dd8b1",
   "metadata": {},
   "outputs": [
    {
     "name": "stdout",
     "output_type": "stream",
     "text": [
      "For Example:\n",
      "Wecome to car showroom  . We have a limited edition  for you\n",
      "Wecome to car showroom Prathamesh . We have a limited edition Rolls-Royce Phantom for you\n"
     ]
    }
   ],
   "source": [
    "'''Q.4] How does Python implement method overloading? Give an example.\n",
    "Ans. Unlike languages like Java or C++, Python does not have a direct mechanism for method overloading, where multiple methods with the \n",
    "same name but different parameter lists can coexist within a class.\n",
    "\n",
    "However, Python provides workarounds to achieve similar functionality:'''\n",
    "print(\"For Example:\")\n",
    "class Car:\n",
    "    def car(self):\n",
    "        print(\"Wecome to Car showroom\")\n",
    "    def car(self, name = \"\"):\n",
    "        print(\"Wecome to Car showroom\", name)\n",
    "    def car(self, name = \"\", car_name = \"\"):\n",
    "        print(\"Wecome to car showroom\", name,\". We have a limited edition\", car_name,\"for you\")\n",
    "\n",
    "car1 = Car()\n",
    "car1.car()\n",
    "car1.car(\"Prathamesh\", \"Rolls-Royce Phantom\")"
   ]
  },
  {
   "cell_type": "code",
   "execution_count": 3,
   "id": "83310b26-2664-4abc-9105-8e11006f8c64",
   "metadata": {},
   "outputs": [
    {
     "name": "stdout",
     "output_type": "stream",
     "text": [
      "For Example :\n",
      "Hello, Prathamesh welcome to our course.\n",
      " \n",
      "For Example\n",
      "Hello, How are you? NVDkvn\n",
      " \n",
      "For Example :\n",
      "The balance is  1000\n"
     ]
    }
   ],
   "source": [
    "'''Q.5] What are the three types of access modifiers in Python? How are they denoted?\n",
    "Ans. Python uses a convention-based approach to access modifiers, rather than strict keywords like in other languages. \n",
    "Here are the three types of access modifiers in Python:   \n",
    "\n",
    "1. Public:\n",
    "\n",
    "Denotation: No special symbol is used.\n",
    "Accessibility: Members declared as public can be accessed from anywhere, both inside and outside the class.'''\n",
    "print(\"For Example :\")\n",
    "class MyClass:\n",
    "    def public_method(self, name):\n",
    "        print(\"Hello,\",name,\"welcome to our course.\")\n",
    "\n",
    "obj1 = MyClass()\n",
    "obj1.public_method(\"Prathamesh\")\n",
    "print(\" \")\n",
    "\n",
    "'''2. Protected:\n",
    "\n",
    "Denotation: Single underscore (_) prefix.\n",
    "Accessibility: Members declared as protected are accessible within the class and its subclasses.'''\n",
    "print(\"For Example\")\n",
    "\n",
    "class SampleClass:\n",
    "    def __init__(self, name):\n",
    "        self._name = name\n",
    "    \n",
    "    def _greet(self):\n",
    "        print(\"Hello, How are you?\",self._name)\n",
    "        \n",
    "obj1 = SampleClass(\"NVDkvn\")\n",
    "obj1._greet()\n",
    "print(\" \")\n",
    "\n",
    "'''3. Private:\n",
    "\n",
    "Denotation: Double underscore (__) prefix.\n",
    "Accessibility: Members declared as private are accessible only within the class itself.'''\n",
    "print(\"For Example :\")\n",
    "\n",
    "class Customer:\n",
    "    def __init__(self, cust_id, name, age, wallet_balance):\n",
    "        self.cust_id = cust_id\n",
    "        self.name = name\n",
    "        self.age = age\n",
    "        self.__wallet_balance = wallet_balance\n",
    "\n",
    "    def update_balance(self, amount):\n",
    "        if amount < 1000 and amount > 0:\n",
    "            self.__wallet_balance += amount\n",
    "\n",
    "    def show_balance(self):\n",
    "        print (\"The balance is \",self.__wallet_balance)\n",
    "\n",
    "c1=Customer(100, \"Gopal\", 24, 1000)\n",
    "c1.__wallet_balance = 10000000000\n",
    "c1.show_balance()\n",
    "\n",
    "'''It's important to note that Python's access modifiers are more of a convention than a strict enforcement mechanism. \n",
    "While they provide guidance for code organization and maintainability, they can still be accessed from outside the class using name mangling. \n",
    "However, it's generally considered good practice to respect these conventions and avoid direct access to private members.'''"
   ]
  },
  {
   "cell_type": "code",
   "execution_count": 4,
   "id": "adeef49c-db54-4d44-bdd0-32b686261b2a",
   "metadata": {},
   "outputs": [
    {
     "name": "stdout",
     "output_type": "stream",
     "text": [
      "For Example : \n",
      "Inside phone constructor\n",
      "Buying a phone\n",
      "Customer review\n"
     ]
    }
   ],
   "source": [
    "'''Q.6]  Describe the five types of inheritance in Python. Provide a simple example of multiple inheritance.\n",
    "Ans. 1. Single inheritance : It enables a derived class to inherit properties and behavior from a single parent class.\n",
    "     2. Multilevel Inheritance : If a class is derived from another derived class then it is called multilevel inheritance.\n",
    "     3. Hierarchical Inheritance : When several classes are derived from common base class it is called hierarchical inheritance.\n",
    "     4. Multiple Inheritance : If a class is derived from two or more base classes then it is called multiple inheritance.\n",
    "     5. Hybrid Inheritance : Hybrid inheritance in Python is a combination of multiple inheritance and single inheritance. It involves a \n",
    "     complex class hierarchy where a class inherits from multiple base classes, and one of these base classes is itself derived from \n",
    "     another base class.'''\n",
    "print(\"For Example : \")\n",
    "class Phone:\n",
    "    def __init__(self, price, brand, camera):\n",
    "        print (\"Inside phone constructor\")\n",
    "        self.__price = price\n",
    "        self.brand = brand\n",
    "        self.camera = camera\n",
    "\n",
    "    def buy(self):\n",
    "        print (\"Buying a phone\")\n",
    "\n",
    "    def return_phone(self):\n",
    "        print (\"Returning a phone\")\n",
    "\n",
    "class Product:\n",
    "    def review(self):\n",
    "        print (\"Customer review\")\n",
    "\n",
    "class SmartPhone(Phone, Product):\n",
    "    pass\n",
    "\n",
    "s=SmartPhone(20000, \"Apple\", 12)\n",
    "\n",
    "s.buy()\n",
    "s.review()"
   ]
  },
  {
   "cell_type": "code",
   "execution_count": 6,
   "id": "8e6ede25-ac7d-42f7-9651-474445edd188",
   "metadata": {},
   "outputs": [
    {
     "name": "stdout",
     "output_type": "stream",
     "text": [
      "For retreiving MRO programmatically check below code.\n",
      "[<class '__main__.D'>, <class '__main__.B'>, <class '__main__.C'>, <class '__main__.A'>, <class 'object'>]\n",
      "(<class '__main__.D'>, <class '__main__.B'>, <class '__main__.C'>, <class '__main__.A'>, <class 'object'>)\n",
      "Method in B\n"
     ]
    }
   ],
   "source": [
    "'''Q.7] What is the Method Resolution Order (MRO) in Python? How can you retrieve it programmatically?\n",
    "Ans. The Method Resolution Order (MRO) is a mechanism in Python that determines the order in which base classes are searched when a \n",
    "method or attribute is accessed. It is particularly important in the context of multiple inheritance, where a class can inherit from more than one \n",
    "parent class. The MRO defines the sequence in which classes are checked to resolve methods, attributes, and other members.\n",
    "\n",
    "# How does MRO work?\n",
    " * When you call a method or access an attribute on an object, Python looks up the object’s class and its inheritance chain to find the method or \n",
    " attribute. \n",
    " * The MRO defines the order in which Python traverses the inheritance hierarchy to find a method or attribute, ensuring that the \n",
    " most specific class (the class closest to the object) is searched first, and the base classes are checked in a consistent order. In Python, \n",
    " the C3 linearization algorithm is used to determine the MRO. This algorithm is designed to ensure a consistent and predictable method resolution \n",
    " order that respects both depth-first search and breadth-first search principles.\n",
    "\n",
    "In Python, the C3 linearization algorithm is used to determine the MRO. This algorithm is designed to ensure a consistent and predictable method \n",
    "resolution order that respects both depth-first search and breadth-first search principles.'''\n",
    "\n",
    "print(\"For retreiving MRO programmatically check below code.\")\n",
    "class A:\n",
    "    def method(self):\n",
    "        print(\"Method in A\")\n",
    "\n",
    "class B(A):\n",
    "    def method(self):\n",
    "        print(\"Method in B\")\n",
    "\n",
    "class C(A):\n",
    "    def method(self):\n",
    "        print(\"Method in C\")\n",
    "\n",
    "class D(B, C):\n",
    "    pass\n",
    "\n",
    "d = D()\n",
    "\n",
    "# Output the MRO\n",
    "print(D.mro())  # This will give a list of classes in the MRO\n",
    "print(D.__mro__)  # This also gives the MRO in a similar way\n",
    "\n",
    "# Call the method\n",
    "d.method()  # This will call the method from class B, as it is first in the MRO\n"
   ]
  },
  {
   "cell_type": "code",
   "execution_count": 7,
   "id": "96775275-52bd-4fae-bb19-0b5039d1b572",
   "metadata": {},
   "outputs": [],
   "source": [
    "'''Q.8] Create an abstract base class `Shape` with an abstract method `area()`. Then create two subclasses\n",
    "`Circle` and `Rectangle` that implement the `area()` method.\n",
    "Ans. '''\n",
    "class Shape:\n",
    "    def area(self):\n",
    "        pass\n",
    "\n",
    "class Circle(Shape):\n",
    "    def area(self):\n",
    "        print(\"Area of circle is 3.14*rad*rad\")\n",
    "\n",
    "circle1 = Circle()\n",
    "circle1.area()\n",
    "\n",
    "class Rectangle(Shape):\n",
    "    def area(self):\n",
    "        print(\"Area of rectangle is length*breadth\")\n",
    "\n",
    "rec1 = Rectangle()\n",
    "rec1.area"
   ]
  },
  {
   "cell_type": "code",
   "execution_count": 1,
   "id": "eb3ffcf8-f7ec-4ff0-a306-9ebed43b6e28",
   "metadata": {},
   "outputs": [
    {
     "name": "stdout",
     "output_type": "stream",
     "text": [
      "The area of the Circle is: 78.53981633974483\n",
      "The area of the Rectangle is: 24\n",
      "The area of the Triangle is: 10.5\n"
     ]
    }
   ],
   "source": [
    "'''Q.9] Demonstrate polymorphism by creating a function that can work with different shape objects to calculate\n",
    "and print their areas.'''\n",
    "\n",
    "import math\n",
    "\n",
    "# Base class: Shape\n",
    "class Shape:\n",
    "    def area(self):\n",
    "        pass  # This will be overridden in derived classes\n",
    "\n",
    "# Circle class\n",
    "class Circle(Shape):\n",
    "    def __init__(self, radius):\n",
    "        self.radius = radius\n",
    "\n",
    "    def area(self):\n",
    "        return math.pi * (self.radius ** 2)\n",
    "\n",
    "# Rectangle class\n",
    "class Rectangle(Shape):\n",
    "    def __init__(self, width, height):\n",
    "        self.width = width\n",
    "        self.height = height\n",
    "\n",
    "    def area(self):\n",
    "        return self.width * self.height\n",
    "\n",
    "# Triangle class\n",
    "class Triangle(Shape):\n",
    "    def __init__(self, base, height):\n",
    "        self.base = base\n",
    "        self.height = height\n",
    "\n",
    "    def area(self):\n",
    "        return 0.5 * self.base * self.height\n",
    "\n",
    "# Function that calculates the area of any shape\n",
    "def print_area(shape):\n",
    "    print(f\"The area of the {shape.__class__.__name__} is: {shape.area()}\")\n",
    "\n",
    "# Creating instances of different shapes\n",
    "circle = Circle(5)\n",
    "rectangle = Rectangle(4, 6)\n",
    "triangle = Triangle(3, 7)\n",
    "\n",
    "# Demonstrating polymorphism\n",
    "print_area(circle)       # Calls the area method of Circle\n",
    "print_area(rectangle)    # Calls the area method of Rectangle\n",
    "print_area(triangle)     # Calls the area method of Triangle\n"
   ]
  },
  {
   "cell_type": "code",
   "execution_count": 3,
   "id": "d9636cd0-53f1-4889-a4b4-b7051739af0a",
   "metadata": {},
   "outputs": [
    {
     "name": "stdout",
     "output_type": "stream",
     "text": [
      "Deposited 500. New balance: 1500\n",
      "Withdrew 200. New balance: 1300\n",
      "Balance: 1300\n",
      "Account Number: 123456789\n"
     ]
    }
   ],
   "source": [
    "'''Q.10] Implement encapsulation in a `BankAccount` class with private attributes for `balance` and\n",
    "`account_number`. Include methods for deposit, withdrawal, and balance inquiry.'''\n",
    "\n",
    "\n",
    "class BankAccount:\n",
    "    def __init__(self, account_number, initial_balance=0):\n",
    "        # Private attributes (name mangling is used for these variables)\n",
    "        self.__account_number = account_number\n",
    "        self.__balance = initial_balance\n",
    "\n",
    "    # Method to deposit money into the account\n",
    "    def deposit(self, amount):\n",
    "        if amount > 0:\n",
    "            self.__balance += amount\n",
    "            print(f\"Deposited {amount}. New balance: {self.__balance}\")\n",
    "        else:\n",
    "            print(\"Deposit amount must be positive.\")\n",
    "\n",
    "    # Method to withdraw money from the account\n",
    "    def withdraw(self, amount):\n",
    "        if amount > 0:\n",
    "            if amount <= self.__balance:\n",
    "                self.__balance -= amount\n",
    "                print(f\"Withdrew {amount}. New balance: {self.__balance}\")\n",
    "            else:\n",
    "                print(\"Insufficient funds.\")\n",
    "        else:\n",
    "            print(\"Withdrawal amount must be positive.\")\n",
    "\n",
    "    # Method to check the balance (getter)\n",
    "    def get_balance(self):\n",
    "        return self.__balance\n",
    "\n",
    "    # Method to inquire the account number (getter)\n",
    "    def get_account_number(self):\n",
    "        return self.__account_number\n",
    "\n",
    "\n",
    "# Demonstrating the use of the BankAccount class\n",
    "account = BankAccount(\"123456789\", 1000)\n",
    "\n",
    "# Perform some operations\n",
    "account.deposit(500)         # Deposit money\n",
    "account.withdraw(200)        # Withdraw money\n",
    "print(f\"Balance: {account.get_balance()}\")  # Check balance\n",
    "\n",
    "# Trying to access private variables directly (will raise an error)\n",
    "# print(account.__balance)  # This will raise an AttributeError\n",
    "# print(account.__account_number)  # This will raise an AttributeError\n",
    "\n",
    "# Accessing private variables indirectly through public methods\n",
    "print(f\"Account Number: {account.get_account_number()}\")  # Access account number\n"
   ]
  },
  {
   "cell_type": "code",
   "execution_count": 5,
   "id": "3a5972a0-d444-45eb-bc24-28759818311b",
   "metadata": {},
   "outputs": [
    {
     "name": "stdout",
     "output_type": "stream",
     "text": [
      "Point(2, 3)\n",
      "Point(4, 5)\n",
      "Point(6, 8)\n"
     ]
    },
    {
     "data": {
      "text/plain": [
       "\"1.] __str__ Method:\\n\\nWe override the __str__ method to provide a custom string representation for the Point object. When you call str(point1) or print(point1), Python will use this method to convert the object to a string. In this case, it returns a string in the format Point(x, y).\\n\\nWithout overriding __str__, printing point1 would return something like <__main__.Point object at 0x7f88b1d3da00>, which is less informative.\\n\\n2.] __add__ Method:\\n\\nThe __add__ method is overridden to allow the use of the + operator for adding two Point objects. When point1 + point2 is executed, Python will call point1.__add__(point2), which adds the x and y coordinates of the two points.\\n\\nThe __add__ method checks if the other object being added is an instance of Point. If it is, it returns a new Point object with the sum of the x and y values. If it's not a Point, it raises a TypeError.\\n\\nThis allows us to directly add Point objects, which would not be possible without defining __add__.\""
      ]
     },
     "execution_count": 5,
     "metadata": {},
     "output_type": "execute_result"
    }
   ],
   "source": [
    "'''Q.11] 11. Write a class that overrides the `__str__` and `__add__` magic methods. What will these methods allow\n",
    "you to do?'''\n",
    "class Point:\n",
    "    def __init__(self, x, y):\n",
    "        self.x = x\n",
    "        self.y = y\n",
    "\n",
    "    # Override __str__ to provide a custom string representation\n",
    "    def __str__(self):\n",
    "        return f\"Point({self.x}, {self.y})\"\n",
    "\n",
    "    # Override __add__ to define how to add two Point objects\n",
    "    def __add__(self, other):\n",
    "        if isinstance(other, Point):\n",
    "            return Point(self.x + other.x, self.y + other.y)\n",
    "        else:\n",
    "            raise TypeError(\"Operands must be of type 'Point'\")\n",
    "\n",
    "# Testing the class\n",
    "point1 = Point(2, 3)\n",
    "point2 = Point(4, 5)\n",
    "\n",
    "# Using __str__ to print the objects\n",
    "print(point1)  # Output: Point(2, 3)\n",
    "print(point2)  # Output: Point(4, 5)\n",
    "\n",
    "# Using __add__ to add two Point objects\n",
    "point3 = point1 + point2  # This invokes the __add__ method\n",
    "print(point3)  # Output: Point(6, 8)\n",
    "\n",
    "'''1.] __str__ Method:\n",
    "\n",
    "When you print an object or convert it to a string using str(), Python will use the __str__ method to get a user-friendly string representation. \n",
    "This is especially useful for debugging or when you need to display an object's state in a readable format.\n",
    "\n",
    "2.] __add__ Method:\n",
    "\n",
    "By overriding __add__, we can define how objects of a class interact with the + operator. In this case, we make it possible to add two Point \n",
    "objects together by summing their x and y attributes.'''"
   ]
  },
  {
   "cell_type": "code",
   "execution_count": 7,
   "id": "729e20f1-caa9-43e8-8966-7fe98824a981",
   "metadata": {},
   "outputs": [
    {
     "name": "stdout",
     "output_type": "stream",
     "text": [
      "Execution time of 'slow_function': 2.0036 seconds\n",
      "Execution time of 'fast_function': 0.5105 seconds\n"
     ]
    }
   ],
   "source": [
    "'''Q.12] Create a decorator that measures and prints the execution time of a function.'''\n",
    "import time\n",
    "\n",
    "# Define the decorator function\n",
    "def measure_time(func):\n",
    "    def wrapper(*args, **kwargs):\n",
    "        start_time = time.time()  # Capture start time\n",
    "        result = func(*args, **kwargs)  # Call the original function\n",
    "        end_time = time.time()  # Capture end time\n",
    "        execution_time = end_time - start_time  # Calculate the time difference\n",
    "        print(f\"Execution time of '{func.__name__}': {execution_time:.4f} seconds\")\n",
    "        return result  # Return the result of the original function\n",
    "    return wrapper\n",
    "\n",
    "# Example function to demonstrate the decorator\n",
    "@measure_time\n",
    "def slow_function():\n",
    "    time.sleep(2)  # to Simulate a function that takes time to execute\n",
    "\n",
    "@measure_time\n",
    "def fast_function():\n",
    "    time.sleep(0.5)  # to Simulate a function that takes less time to execute\n",
    "\n",
    "# Call the functions\n",
    "slow_function()  #This Should print the execution time of the slow function\n",
    "fast_function()  #This Should print the execution time of the fast function\n"
   ]
  },
  {
   "cell_type": "code",
   "execution_count": 8,
   "id": "27403ef1-1ac7-45c4-abc8-2b1c1fb35422",
   "metadata": {},
   "outputs": [
    {
     "data": {
      "text/plain": [
       "'Python resolves the Diamond Problem using the Method Resolution Order (MRO). MRO determines the order in which base classes are looked up \\nwhen searching for a method or attribute. The MRO is calculated using the C3 Linearization algorithm, which ensures that the method resolution is \\nunambiguous.\\n\\nPython uses the MRO to define a clear order of inheritance and method lookup that avoids ambiguity. The method resolution order is determined \\nfrom the top of the inheritance tree down to the leaves, and it respects the order in which the classes are listed in the base class declarations.'"
      ]
     },
     "execution_count": 8,
     "metadata": {},
     "output_type": "execute_result"
    }
   ],
   "source": [
    "'''Q.13] Explain the concept of the Diamond Problem in multiple inheritance. How does Python resolve it?\n",
    "Ans. The Diamond Problem is an issue that arises in object-oriented programming languages that support multiple inheritance, \n",
    "where a class inherits from two classes that both inherit from a common base class. This can lead to ambiguity when methods or attributes are \n",
    "inherited from the common base class.'''\n",
    "class A:\n",
    "    def speak(self):\n",
    "        print(\"Speaking from class A\")\n",
    "\n",
    "class B(A):\n",
    "    def speak(self):\n",
    "        print(\"Speaking from class B\")\n",
    "\n",
    "class C(A):\n",
    "    def speak(self):\n",
    "        print(\"Speaking from class C\")\n",
    "\n",
    "class D(B, C):\n",
    "    pass\n",
    "\n",
    "'''Python resolves the Diamond Problem using the Method Resolution Order (MRO). MRO determines the order in which base classes are looked up \n",
    "when searching for a method or attribute. The MRO is calculated using the C3 Linearization algorithm, which ensures that the method resolution is \n",
    "unambiguous.\n",
    "\n",
    "Python uses the MRO to define a clear order of inheritance and method lookup that avoids ambiguity. The method resolution order is determined \n",
    "from the top of the inheritance tree down to the leaves, and it respects the order in which the classes are listed in the base class declarations.'''"
   ]
  },
  {
   "cell_type": "code",
   "execution_count": 9,
   "id": "bcd920d8-1a0b-43d9-9c40-3293933bc4aa",
   "metadata": {},
   "outputs": [
    {
     "name": "stdout",
     "output_type": "stream",
     "text": [
      "Number of instances created: 3\n"
     ]
    }
   ],
   "source": [
    "'''Q.14] Write a class method that keeps track of the number of instances created from a class.'''\n",
    "class MyClass:\n",
    "    \n",
    "    instance_count = 0\n",
    "    def __init__(self):\n",
    "        MyClass.instance_count += 1\n",
    "\n",
    "    @classmethod\n",
    "    def get_instance_count(cls):\n",
    "        return cls.instance_count\n",
    "\n",
    "obj1 = MyClass()\n",
    "obj2 = MyClass()\n",
    "obj3 = MyClass()\n",
    "\n",
    "# Get the count of instances created\n",
    "print(f\"Number of instances created: {MyClass.get_instance_count()}\")"
   ]
  },
  {
   "cell_type": "code",
   "execution_count": 14,
   "id": "92a28890-ed65-46d8-88ee-2ec08f3f0fc2",
   "metadata": {},
   "outputs": [
    {
     "name": "stdout",
     "output_type": "stream",
     "text": [
      "False\n",
      "True\n",
      "True\n",
      "False\n",
      "True\n"
     ]
    }
   ],
   "source": [
    "'''Q.15]  Implement a static method in a class that checks if a given year is a leap year.'''\n",
    "\n",
    "class Year:\n",
    "    \n",
    "    @staticmethod\n",
    "    def is_leap_year(inp_year):\n",
    "        if(inp_year % 4 == 0 and inp_year % 100 != 0) or (inp_year % 400 == 0):\n",
    "            return True\n",
    "\n",
    "        else:\n",
    "            return False\n",
    "\n",
    "print(Year.is_leap_year(1994))\n",
    "print(Year.is_leap_year(1996))\n",
    "print(Year.is_leap_year(2000))\n",
    "print(Year.is_leap_year(1900))\n",
    "print(Year.is_leap_year(2004))"
   ]
  },
  {
   "cell_type": "code",
   "execution_count": null,
   "id": "b3a6c8c2-0851-4015-9949-79770b8fecf4",
   "metadata": {},
   "outputs": [],
   "source": []
  }
 ],
 "metadata": {
  "kernelspec": {
   "display_name": "Python 3 (ipykernel)",
   "language": "python",
   "name": "python3"
  },
  "language_info": {
   "codemirror_mode": {
    "name": "ipython",
    "version": 3
   },
   "file_extension": ".py",
   "mimetype": "text/x-python",
   "name": "python",
   "nbconvert_exporter": "python",
   "pygments_lexer": "ipython3",
   "version": "3.10.2"
  }
 },
 "nbformat": 4,
 "nbformat_minor": 5
}
