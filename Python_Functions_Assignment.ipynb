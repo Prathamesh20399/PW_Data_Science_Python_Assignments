{
 "cells": [
  {
   "cell_type": "code",
   "execution_count": 3,
   "id": "6743a996-b549-43c3-ab25-345c1e35e89a",
   "metadata": {},
   "outputs": [
    {
     "name": "stdout",
     "output_type": "stream",
     "text": [
      "For Example :\n",
      "This is printing from function.\n",
      " \n",
      "This is printing from method\n"
     ]
    }
   ],
   "source": [
    "'''Q.1] What is the difference between a function and a method in Python?\n",
    "Ans.  While both functions and methods are used to encapsulate reusable code, they differ in their context and how they are called:\n",
    "\n",
    "# Functions:\n",
    "\n",
    "  Independent: Defined outside of classes.\n",
    "  Called directly: Invoked by their name.\n",
    "  No implicit self parameter: They don't inherently operate on an object's state.'''\n",
    "\n",
    "print(\"For Example :\")\n",
    "def sample_function():\n",
    "    print(\"This is printing from function.\")\n",
    "\n",
    "sample_function()\n",
    "'''\n",
    "# Methods\n",
    "\n",
    "  Bound to Classes: Defined within a class.\n",
    "  Called on Objects: Invoked using dot notation on an object of the class.\n",
    "  Implicit self parameter: The first parameter of a method is self, which refers to the instance of the class.'''\n",
    "\n",
    "print(\" \")\n",
    "class Sample_Class:\n",
    "    def __init__(self):\n",
    "        pass\n",
    "\n",
    "    def sample_method(self):\n",
    "        print(\"This is printing from method\")\n",
    "\n",
    "obj1 = Sample_Class()\n",
    "obj1.sample_method()\n",
    "\n"
   ]
  },
  {
   "cell_type": "code",
   "execution_count": 6,
   "id": "337406fd-c042-4ca9-b1c7-8011314e1ae6",
   "metadata": {},
   "outputs": [
    {
     "name": "stdout",
     "output_type": "stream",
     "text": [
      "Parameters : These act as the placeholder for the values that will be passed to a function when the function is called. These are\n",
      "defined at the time of function declaration.\n",
      "Arguments : These are teh actual values that are passed along with the function, during the function call\n",
      " \n",
      "For Example\n",
      "Hello Prathamesh , how are you?\n"
     ]
    }
   ],
   "source": [
    "'''Q.2] Explain the concept of function arguments and parameters in Python.'''\n",
    "print(\"Parameters : These act as the placeholder for the values that will be passed to a function when the function is called. These are\\ndefined at the time of function declaration.\")\n",
    "print(\"Arguments : These are teh actual values that are passed along with the function, during the function call\")\n",
    "\n",
    "print(\" \")\n",
    "print(\"For Example\")\n",
    "\n",
    "def greet(name): #here 'name' is the parameter that is placeholder for the value that will be passed during function call\n",
    "    print(\"Hello\",name,\", how are you?\")\n",
    "\n",
    "greet(\"Prathamesh\")  #here \"Prathamesh\" is the argument i.e. value passed with the function call"
   ]
  },
  {
   "cell_type": "code",
   "execution_count": 8,
   "id": "614768f3-3ff9-43cf-969e-e445e7f17ef0",
   "metadata": {},
   "outputs": [
    {
     "name": "stdout",
     "output_type": "stream",
     "text": [
      "Here is a basic syntax for defining a function in python\n",
      "This is a parameterless function\n",
      " \n",
      "This is a parameterized function, the paratemer is : vjsdbfggdihb\n"
     ]
    }
   ],
   "source": [
    "'''Q.3] What are the different ways to define and call a function in Python?\n",
    "Ans. In Python, functions are defined using the 'def' keyword followed by the function name, parentheses, and a colon. The function body is indented within the block. '''\n",
    "\n",
    "print(\"Here is a basic syntax for defining a function in python\")\n",
    "def sample_function1():  #This is the way to define a function\n",
    "    print(\"This is a parameterless function\")\n",
    "\n",
    "sample_function1()\n",
    "print(\" \")\n",
    "def sample_function2(parameter1):   #This is the way to define a parameterized function, here we can have 1 or more parameters, same number of arguments will be needed to be defined ehn calling this type of method\n",
    "    print(\"This is a parameterized function, the paratemer is :\",parameter1)\n",
    "\n",
    "sample_function2(\"vjsdbfggdihb\")"
   ]
  },
  {
   "cell_type": "code",
   "execution_count": 12,
   "id": "77ac6b48-c1c4-4253-ba82-8b5dfd2eb9ac",
   "metadata": {},
   "outputs": [
    {
     "name": "stdout",
     "output_type": "stream",
     "text": [
      "For Example :  As shown below.\n",
      "7\n"
     ]
    },
    {
     "data": {
      "text/plain": [
       "'In the above example:\\n\\n# The add function takes two arguments, x and y.\\n# It calculates the sum of x and y and stores it in the result variable.\\n# The return statement sends the value of result back to the caller.\\n# The returned value is assigned to the sum variable.'"
      ]
     },
     "execution_count": 12,
     "metadata": {},
     "output_type": "execute_result"
    }
   ],
   "source": [
    "'''Q.4] What is the purpose of the `return` statement in a Python function?\n",
    "Ans. 1. Send a value back to the caller: The value after the return keyword is returned to the point where the function was called.\n",
    "     2. Terminate a function: Once the return statement is executed, the function stops and exits.'''\n",
    "print(\"For Example :  As shown below.\")\n",
    "def add(x,y):\n",
    "    return x+y\n",
    "\n",
    "num = add(2, 5)\n",
    "print(num)\n",
    "\n",
    "'''In the above example:\n",
    "\n",
    "# The add function takes two arguments, x and y.\n",
    "# It calculates the sum of x and y and stores it in the result variable.\n",
    "# The return statement sends the value of result back to the caller.\n",
    "# The returned value is assigned to the sum variable.'''"
   ]
  },
  {
   "cell_type": "code",
   "execution_count": 2,
   "id": "537c4423-f1ba-4cd9-8371-98f61777b0e5",
   "metadata": {},
   "outputs": [
    {
     "name": "stdout",
     "output_type": "stream",
     "text": [
      "For Example :\n",
      "1\n",
      "2\n",
      "3\n",
      "1\n",
      "2\n",
      "3\n"
     ]
    }
   ],
   "source": [
    "'''Q.5] What are iterators in Python and how do they differ from iterables?\n",
    "Ans. # Iterators :\n",
    "\n",
    "  Definition: Objects that represent a stream of data.\n",
    "  How it works: Iterators have two methods:\n",
    "  __iter__(): Returns the iterator object itself.\n",
    "  __next__(): Returns the next element in the sequence. When there are no more elements, it raises a StopIteration exception.\n",
    "  Obtained from Iterables: Iterables are used to create iterators.\n",
    "\n",
    "# Iterables :\n",
    "\n",
    "  Definition: Any object that can be iterated over, meaning its elements can be accessed one by one.\n",
    "  Examples: Lists, tuples, strings, dictionaries, sets, and custom objects that implement the __iter__ method.\n",
    "  How it works: Iterables provide an iterator object when used in a for loop or with functions like iter().'''\n",
    "\n",
    "print(\"For Example :\")\n",
    "my_list = [1, 2, 3]  # Iterable\n",
    "\n",
    "# Getting an iterator\n",
    "my_iterator = iter(my_list)\n",
    "\n",
    "# Iterating over the iterator\n",
    "print(next(my_iterator))  # Output: 1\n",
    "print(next(my_iterator))  # Output: 2\n",
    "print(next(my_iterator))  # Output: 3\n",
    "#print(next(my_iterator))  #uncommenting this line will give an exception\n",
    "\n",
    "# Using a for loop to iterate over the iterable\n",
    "for item in my_list:\n",
    "    print(item)"
   ]
  },
  {
   "cell_type": "code",
   "execution_count": 4,
   "id": "cb65160b-5303-49ff-a01b-c95b8d04cb19",
   "metadata": {},
   "outputs": [
    {
     "name": "stdout",
     "output_type": "stream",
     "text": [
      "For Example : Below code for fibonacci series\n",
      "0\n",
      "1\n",
      "1\n",
      "2\n",
      "3\n",
      "5\n",
      "8\n",
      "13\n",
      "21\n",
      "34\n"
     ]
    }
   ],
   "source": [
    "'''Q.6]  Explain the concept of generators in Python and how they are defined.\n",
    "Ans. Generators are a powerful tool in Python for creating iterators. They provide a way to generate a sequence of values on-the-fly, \n",
    "rather than storing them all in memory at once. This is particularly useful for large datasets or infinite sequences.\n",
    "\n",
    "# How Generators Work :\n",
    "  When you call a generator function, it doesn't execute immediately. Instead, it returns an iterator object. Each time you call the next() \n",
    "  function on this iterator, the generator resumes execution from where it left off, until it reaches the next yield statement.\n",
    "\n",
    "# Key Points:\n",
    "\n",
    "  Lazy Evaluation: Generators evaluate elements on-demand, which can save memory, especially for large datasets.\n",
    "  Iterability: Generators can be used in for loops and other iterative constructs.\n",
    "  Pausable Execution: The yield keyword pauses the function's execution and returns a value. The next call to next() resumes the function from \n",
    "                      the point of the last yield.'''\n",
    "\n",
    "print(\"For Example : Below code for fibonacci series\")\n",
    "def fibonacci_generator(n):\n",
    "    a, b = 0, 1\n",
    "    for _ in range(n):\n",
    "        yield a\n",
    "        a, b = b, a + b\n",
    "\n",
    "for num in fibonacci_generator(10):\n",
    "    print(num)"
   ]
  },
  {
   "cell_type": "code",
   "execution_count": 5,
   "id": "db110977-da3c-455c-bbc1-cea46760308b",
   "metadata": {},
   "outputs": [
    {
     "data": {
      "text/plain": [
       "\"Q.7] What are the advantages of using generators over regular functions?\\nAns. Advantages of Using Generators Over Regular Functions:\\n\\n1.] Memory Efficiency:\\nGenerators produce values on-the-fly, one at a time. This means they don't need to store the entire sequence in memory, making them ideal for large datasets or infinite sequences. \\xa0 \\n\\n2.] Lazy Evaluation:\\nGenerators only compute the next value when it's needed. This can lead to significant performance improvements, especially when dealing with complex calculations or I/O operations. \\xa0 \\n\\n3.] Simpler Code:\\nGenerators can often simplify code by breaking down complex iterative processes into smaller, more manageable steps. \\xa0 \\n\\n4.] Infinite Sequences:\\nGenerators can be used to create infinite sequences, such as Fibonacci numbers or prime numbers, without running out of memory. \\xa0 \\n\\n5.] Pipeline Processing:\\nGenerators can be chained together to create complex data pipelines, where the output of one generator becomes the input to the next. \\xa0 \\n\\nIn summary, generators offer a powerful and efficient way to work with data in Python, especially when dealing with large datasets or infinite sequences.\""
      ]
     },
     "execution_count": 5,
     "metadata": {},
     "output_type": "execute_result"
    }
   ],
   "source": [
    "'''Q.7] What are the advantages of using generators over regular functions?\n",
    "Ans. Advantages of Using Generators Over Regular Functions:\n",
    "\n",
    "1.] Memory Efficiency:\n",
    "Generators produce values on-the-fly, one at a time. This means they don't need to store the entire sequence in memory, making them ideal for large datasets or infinite sequences.   \n",
    "\n",
    "2.] Lazy Evaluation:\n",
    "Generators only compute the next value when it's needed. This can lead to significant performance improvements, especially when dealing with complex calculations or I/O operations.   \n",
    "\n",
    "3.] Simpler Code:\n",
    "Generators can often simplify code by breaking down complex iterative processes into smaller, more manageable steps.   \n",
    "\n",
    "4.] Infinite Sequences:\n",
    "Generators can be used to create infinite sequences, such as Fibonacci numbers or prime numbers, without running out of memory.   \n",
    "\n",
    "5.] Pipeline Processing:\n",
    "Generators can be chained together to create complex data pipelines, where the output of one generator becomes the input to the next.   \n",
    "\n",
    "In summary, generators offer a powerful and efficient way to work with data in Python, especially when dealing with large datasets or infinite sequences.'''"
   ]
  },
  {
   "cell_type": "code",
   "execution_count": 10,
   "id": "0f22726b-5540-488d-901c-72c299e78c71",
   "metadata": {},
   "outputs": [
    {
     "name": "stdout",
     "output_type": "stream",
     "text": [
      "Syntax for lambda function -> lambda arguments : expression\n",
      "For Example : Check the below code for getting a square of a number.\n",
      "25\n",
      " \n",
      "Example 1.] Sorting a list\n",
      "[(1, 'a'), (2, 'b'), (3, 'c')]\n",
      " \n",
      "Example 2.] Filtering a list\n",
      "[2, 4, 6]\n"
     ]
    }
   ],
   "source": [
    "'''Q.8] What is a lambda function in Python and when is it typically used?\n",
    "Ans. Lambda functions, also known as anonymous functions, are small, unnamed functions that can be defined in a single line. \n",
    "They are often used for short, simple operations.'''\n",
    "print(\"Syntax for lambda function -> lambda arguments : expression\")\n",
    "print(\"For Example : Check the below code for getting a square of a number.\")\n",
    "\n",
    "square = lambda x: x * x\n",
    "print(square(5))\n",
    "print(\" \")\n",
    "\n",
    "'''When to Use Lambda Functions:\n",
    "\n",
    "Short, Simple Functions: For concise one-line functions.   \n",
    "Higher-Order Functions: As arguments to functions like map, filter, and reduce.\n",
    "Sorting and Key Functions: For custom sorting criteria.'''\n",
    "\n",
    "print(\"Example 1.] Sorting a list\")\n",
    "my_list = [(1, 'a'), (3, 'c'), (2, 'b')]\n",
    "sorted_list = sorted(my_list, key=lambda x: x[1])\n",
    "print(sorted_list)  # Output: [(1, 'a'), (2, 'b'), (3, 'c')]\n",
    "print(\" \")\n",
    "\n",
    "print(\"Example 2.] Filtering a list\")\n",
    "numbers = [1, 2, 3, 4, 5, 6]\n",
    "even_numbers = list(filter(lambda x: x % 2 == 0, numbers))\n",
    "print(even_numbers)  # Output: [2, 4, 6]"
   ]
  },
  {
   "cell_type": "code",
   "execution_count": 13,
   "id": "73be393c-50b2-4b74-91d5-68a7da3637c6",
   "metadata": {},
   "outputs": [
    {
     "name": "stdout",
     "output_type": "stream",
     "text": [
      "Syntax for map function : map(function, iterable)\n",
      "For Example : Check below code\n",
      "[1, 4, 9, 16, 25]\n",
      " \n"
     ]
    },
    {
     "data": {
      "text/plain": [
       "'Key Points:\\n\\n  The map() function is often used to apply a transformation to each element of an iterable in a concise and efficient way.\\n  The function passed to map() can be any callable object, including lambda functions, built-in functions, and user-defined functions.\\n  The returned map object can be directly iterated over or converted to a list or tuple for further processing.\\n\\nAdvantages of Using map():\\n\\n  Concise and Readable: The map() function provides a clean and concise way to apply a function to multiple elements.\\n  Efficient: It can be more efficient than using a traditional for loop, especially for large iterables.\\n  Functional Programming Style: It aligns with functional programming principles, promoting a more declarative style of programming.\\nBy understanding the map() function, we can write more efficient and elegant Python code.'"
      ]
     },
     "execution_count": 13,
     "metadata": {},
     "output_type": "execute_result"
    }
   ],
   "source": [
    "'''Q.9] Explain the purpose and usage of the `map()` function in Python.\n",
    "Ans. The map() function in Python is a built-in function that applies a given function to each item of an iterable \n",
    "(like a list, tuple, etc.) and returns an iterator 1  of the results.'''\n",
    "\n",
    "print(\"Syntax for map function : map(function, iterable)\")\n",
    "'''Parameters:\n",
    "\n",
    "# function: The function to be applied to each element of the iterable.\n",
    "# iterable: The iterable object (like a list, tuple, or string) whose elements will be processed.\n",
    "\n",
    "Return Value:\n",
    "\n",
    "The map() function returns a map object, which is an iterator. We can convert it to a list or tuple to access the results.'''\n",
    "\n",
    "print(\"For Example : Check below code\")\n",
    "numbers = [1, 2, 3, 4, 5]\n",
    "\n",
    "# Apply the square function to each number using map()\n",
    "squared_numbers = list(map(square, numbers))\n",
    "\n",
    "print(squared_numbers)\n",
    "print(\" \")\n",
    "'''Key Points:\n",
    "\n",
    "  The map() function is often used to apply a transformation to each element of an iterable in a concise and efficient way.\n",
    "  The function passed to map() can be any callable object, including lambda functions, built-in functions, and user-defined functions.\n",
    "  The returned map object can be directly iterated over or converted to a list or tuple for further processing.\n",
    "\n",
    "Advantages of Using map():\n",
    "\n",
    "  Concise and Readable: The map() function provides a clean and concise way to apply a function to multiple elements.\n",
    "  Efficient: It can be more efficient than using a traditional for loop, especially for large iterables.\n",
    "  Functional Programming Style: It aligns with functional programming principles, promoting a more declarative style of programming.\n",
    "By understanding the map() function, we can write more efficient and elegant Python code.'''"
   ]
  },
  {
   "cell_type": "code",
   "execution_count": 20,
   "id": "4cb3ed36-3554-4295-ba8d-d696c12a12eb",
   "metadata": {},
   "outputs": [
    {
     "data": {
      "text/plain": [
       "\"Q.10] What is the difference between `map()`, `reduce()`, and `filter()` functions in Python?\\nAns. Map, Filter, and Reduce are powerful tools in Python's functional programming paradigm. \\nThey allow us to perform operations on sequences of elements in a concise and elegant way.\\n\\n1. Map: Applies a function to each element of an iterable and returns an iterator of the results.\\nSyntax: map(function, iterable)\\n\\n2. Filter: Filters elements from an iterable based on a given condition.\\nSyntax: filter(function, iterable)\\n\\n3. Reduce: Applies a function to an iterable, reducing it to a single cumulative value.\\nSyntax: reduce(function, iterable, initializer=None)\\n\\nBy understanding these functions, you can write more concise and efficient Python code, \\nespecially when working with large datasets or complex data transformations.\""
      ]
     },
     "execution_count": 20,
     "metadata": {},
     "output_type": "execute_result"
    }
   ],
   "source": [
    "'''Q.10] What is the difference between `map()`, `reduce()`, and `filter()` functions in Python?\n",
    "Ans. Map, Filter, and Reduce are powerful tools in Python's functional programming paradigm. \n",
    "They allow us to perform operations on sequences of elements in a concise and elegant way.\n",
    "\n",
    "1. Map: Applies a function to each element of an iterable and returns an iterator of the results.\n",
    "Syntax: map(function, iterable)\n",
    "\n",
    "2. Filter: Filters elements from an iterable based on a given condition.\n",
    "Syntax: filter(function, iterable)\n",
    "\n",
    "3. Reduce: Applies a function to an iterable, reducing it to a single cumulative value.\n",
    "Syntax: reduce(function, iterable, initializer=None)\n",
    "\n",
    "By understanding these functions, you can write more concise and efficient Python code, \n",
    "especially when working with large datasets or complex data transformations.'''"
   ]
  },
  {
   "cell_type": "code",
   "execution_count": null,
   "id": "d90014bc-78ac-4f23-8c40-ca77bda8f135",
   "metadata": {},
   "outputs": [],
   "source": []
  }
 ],
 "metadata": {
  "kernelspec": {
   "display_name": "Python 3 (ipykernel)",
   "language": "python",
   "name": "python3"
  },
  "language_info": {
   "codemirror_mode": {
    "name": "ipython",
    "version": 3
   },
   "file_extension": ".py",
   "mimetype": "text/x-python",
   "name": "python",
   "nbconvert_exporter": "python",
   "pygments_lexer": "ipython3",
   "version": "3.10.2"
  }
 },
 "nbformat": 4,
 "nbformat_minor": 5
}
